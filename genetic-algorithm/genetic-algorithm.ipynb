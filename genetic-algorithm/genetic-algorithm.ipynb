{
 "cells": [
  {
   "cell_type": "code",
   "execution_count": 4,
   "metadata": {},
   "outputs": [],
   "source": [
    "import pickle\n",
    "import matplotlib.pyplot as plt\n",
    "import numpy as np\n",
    "from copy import deepcopy\n",
    "import random\n",
    "from typing import Callable\n",
    "import time"
   ]
  },
  {
   "attachments": {},
   "cell_type": "markdown",
   "metadata": {},
   "source": [
    "## Загрузка базы данных MNIST"
   ]
  },
  {
   "cell_type": "code",
   "execution_count": 5,
   "metadata": {},
   "outputs": [],
   "source": [
    "def load_mnist(path):\n",
    "    with open(path, mode='rb') as f:\n",
    "        training_data, _, test_data = pickle.load(f, encoding='bytes')\n",
    "        return dict(\n",
    "            training_images = training_data[0],\n",
    "            training_labels = training_data[1],\n",
    "            test_images = test_data[0],\n",
    "            test_labels = test_data[1]\n",
    "        )"
   ]
  },
  {
   "attachments": {},
   "cell_type": "markdown",
   "metadata": {},
   "source": [
    "## Рисование цифры MNIST"
   ]
  },
  {
   "cell_type": "code",
   "execution_count": 6,
   "metadata": {},
   "outputs": [],
   "source": [
    "def draw_mnist_digit(mnist, example):\n",
    "    label = mnist['training_labels'][example]\n",
    "    plt.title('Example: %d, label: %d' % (example, label))\n",
    "    plt.imshow(np.array(mnist['training_images'][7]).reshape((28, 28)), cmap=plt.get_cmap('gray'))"
   ]
  },
  {
   "attachments": {},
   "cell_type": "markdown",
   "metadata": {},
   "source": [
    "## Стохастический градиентный спуск"
   ]
  },
  {
   "cell_type": "code",
   "execution_count": 7,
   "metadata": {},
   "outputs": [],
   "source": [
    "class SGD():\n",
    "    def __init__(self, learning_rate):\n",
    "        self.learning_rate = learning_rate\n",
    "\n",
    "    def init_network(self, network):\n",
    "        self.network = network\n",
    "    \n",
    "    def update(self, grad_w, grad_b, batch, expected):\n",
    "        for i in range(len(self.network.layers) - 1, 0, -1):\n",
    "            self.network.weights[i] -= self.learning_rate * grad_w[i]\n",
    "            self.network.biases[i] -= self.learning_rate * grad_b[i]\n",
    "\n",
    "    def __str__(self):\n",
    "        return 'SGD'"
   ]
  },
  {
   "attachments": {},
   "cell_type": "markdown",
   "metadata": {},
   "source": [
    "## Сопряжённые градиенты (метод Флетчера-Ривза FR)"
   ]
  },
  {
   "cell_type": "code",
   "execution_count": 8,
   "metadata": {},
   "outputs": [],
   "source": [
    "class ConjugateGradientFR():\n",
    "    def __init__(self, learning_rate):\n",
    "        self.learning_rate = learning_rate\n",
    "\n",
    "    def init_network(self, network):\n",
    "        self.network = network\n",
    "        self.prev_grad_w = None\n",
    "        self.previous_d = None\n",
    "\n",
    "    def update(self, grad_w, grad_b, batch, expected):\n",
    "        if self.previous_d is None:\n",
    "            self.previous_d = [-grad_w[i] for i in range(1, len(self.network.layers))]\n",
    "        else:\n",
    "            beta = [np.zeros((grad_w[i].shape[0], 1)) for i in range(1, len(self.network.layers))]\n",
    "            for i in range(1, len(self.network.layers)):\n",
    "                numerator = np.diagonal(np.dot(grad_w[i], np.transpose(grad_w[i])))\n",
    "                denominator = np.diagonal(np.dot(self.prev_grad_w[i], np.transpose(self.prev_grad_w[i])))\n",
    "                beta[i - 1] = numerator / (denominator + 1e-100)\n",
    "                beta[i - 1] = np.where(beta[i - 1] < 1, beta[i - 1], 0)\n",
    "                for j in range(beta[i - 1].shape[0]):\n",
    "                    self.previous_d[i - 1][j] = -grad_w[i][j] + beta[i - 1][j] * self.previous_d[i - 1][j]\n",
    "            # self.previous_d = [-grad_w[i] + np.dot(beta[i - 1], self.previous_d[i - 1]) for i in range(1, len(self.network.layers))]\n",
    "        for i in range(1, len(self.network.layers)):\n",
    "            self.network.weights[i] += self.learning_rate * self.previous_d[i - 1]\n",
    "            self.network.biases[i] -= self.learning_rate * grad_b[i]\n",
    "        self.prev_grad_w = grad_w\n",
    "\n",
    "    def __str__(self):\n",
    "        return 'Conjugate Gradient FR'"
   ]
  },
  {
   "attachments": {},
   "cell_type": "markdown",
   "metadata": {},
   "source": [
    "## Метод Бройдена-Флетчера-Гольдфарба-Шенно (BFGS)"
   ]
  },
  {
   "cell_type": "code",
   "execution_count": 41,
   "metadata": {},
   "outputs": [],
   "source": [
    "class BFGS():\n",
    "    def __init__(self, learning_rate):\n",
    "        self.learning_rate = learning_rate\n",
    "\n",
    "    def init_network(self, network):\n",
    "        self.network = network\n",
    "        self.H = [None] + [np.eye(self.network.weights[i].shape[0]) for i in range(1, len(self.network.layers))]\n",
    "        self.prev_grad_w = [None] + [np.zeros_like(self.network.weights[i]) for i in range(1, len(self.network.layers))]\n",
    "        self.prev_weights = [None] + [np.zeros_like(self.network.weights[i]) for i in range(1, len(self.network.layers))]\n",
    "\n",
    "    def update(self, grad_w, grad_b):\n",
    "        for i in range(1, len(self.network.layers)):\n",
    "            delta_w = -self.learning_rate * np.dot(self.H[i], grad_w[i])\n",
    "            delta_b = -self.learning_rate * grad_b[i]\n",
    "            self.network.weights[i] += delta_w\n",
    "            self.network.biases[i] += delta_b\n",
    "\n",
    "            delta_grad_w_i = grad_w[i] - self.prev_grad_w[i]\n",
    "            delta_weight_i = self.network.weights[i] - self.prev_weights[i]\n",
    "            \n",
    "            rho = 1.0 / (np.dot(delta_weight_i, np.transpose(delta_grad_w_i)) + 1e-100)\n",
    "            rho = np.where((rho > 0) & (rho < 1) , rho, 0)\n",
    "            self.H[i] = (np.eye(self.network.weights[i].shape[0]) - \\\n",
    "                        rho * np.dot(delta_weight_i, np.transpose(delta_grad_w_i))) * self.H[i] * \\\n",
    "                        (np.eye(self.network.weights[i].shape[0]) - \\\n",
    "                        rho * np.dot(delta_grad_w_i, np.transpose(delta_weight_i))) + \\\n",
    "                        rho * np.dot(delta_weight_i, np.transpose(delta_weight_i))\n",
    "        self.prev_grad_w = grad_w\n",
    "        self.prev_weights = deepcopy(self.network.weights)\n",
    "\n",
    "    def __str__(self):\n",
    "        return 'BFGS'"
   ]
  },
  {
   "attachments": {},
   "cell_type": "markdown",
   "metadata": {},
   "source": [
    "# Ускоренный градиент Нестерова (Nesterov accelerated gradient)"
   ]
  },
  {
   "cell_type": "code",
   "execution_count": 42,
   "metadata": {},
   "outputs": [],
   "source": [
    "class NAG():\n",
    "    def __init__(self, learning_rate, gamma):\n",
    "        self.learning_rate = learning_rate\n",
    "        self.gamma = gamma\n",
    "\n",
    "    def init_network(self, network):\n",
    "        self.network = network\n",
    "        self.vt_w = [None] + [np.zeros_like(self.network.weights[i]) for i in range(1, len(self.network.weights))]\n",
    "        self.vt_b = [None] + [np.zeros_like(self.network.biases[i]) for i in range(1, len(self.network.biases))]\n",
    "        \n",
    "    def update(self, grad_w, grad_b, batch, expected):\n",
    "        network_predicted = deepcopy(self.network)\n",
    "        for i in range(1, len(self.network.layers)):\n",
    "            network_predicted.weights[i] -= self.gamma * self.vt_w[i]\n",
    "            network_predicted.biases[i] -= self.gamma * self.vt_b[i]\n",
    "\n",
    "        weighted_inputs, predicted = network_predicted.feedforward(np.transpose(batch))\n",
    "        errors = network_predicted.backpropogate_error(weighted_inputs, predicted[-1], expected)\n",
    "        grad_w_predicted = [None for _ in range(len(network_predicted.layers))]\n",
    "        grad_b_predicted = [None for _ in range(len(network_predicted.layers))]\n",
    "        for i in range(len(network_predicted.layers) - 1, 0, -1):\n",
    "            grad_w_predicted[i] = np.dot(errors[i], np.transpose(predicted[i - 1])) / batch.shape[0]\n",
    "            grad_b_predicted[i] = errors[i].sum(axis=1) / batch.shape[0]\n",
    "        \n",
    "        for i in range(1, len(self.network.layers)):\n",
    "            self.vt_w[i] = self.gamma * self.vt_w[i] + self.learning_rate * grad_w_predicted[i]\n",
    "            self.vt_b[i] = self.gamma * self.vt_b[i] + self.learning_rate * grad_b_predicted[i] \n",
    "            self.network.weights[i] -= self.vt_w[i]\n",
    "            self.network.biases[i] -= self.vt_b[i]\n",
    "\n",
    "    def __str__(self):\n",
    "        return 'NAG'"
   ]
  },
  {
   "attachments": {},
   "cell_type": "markdown",
   "metadata": {},
   "source": [
    "# Адаптивный градиент (Adagrad)"
   ]
  },
  {
   "cell_type": "code",
   "execution_count": 43,
   "metadata": {},
   "outputs": [],
   "source": [
    "class Adagrad():\n",
    "    def __init__(self, learning_rate):\n",
    "        self.learning_rate = learning_rate\n",
    "\n",
    "    def init_network(self, network):\n",
    "        self.network = network\n",
    "        self.G_w = [None] + [np.zeros_like(self.network.weights[i]) for i in range(1, len(self.network.weights))]\n",
    "        self.G_b = [None] + [np.zeros_like(self.network.biases[i]) for i in range(1, len(self.network.biases))]\n",
    "        \n",
    "    def update(self, grad_w, grad_b, batch, expected):\n",
    "        for i in range(1, len(self.network.layers)):\n",
    "            self.G_w[i] += grad_w[i] ** 2\n",
    "            self.G_b[i] += grad_b[i] ** 2\n",
    "            adapted_learning_rate_w = self.learning_rate / np.sqrt(self.G_w[i] + 1e-8)\n",
    "            adapted_learning_rate_b = self.learning_rate / np.sqrt(self.G_b[i] + 1e-8)\n",
    "            self.network.weights[i] -= adapted_learning_rate_w * grad_w[i]\n",
    "            self.network.biases[i] -= adapted_learning_rate_b * grad_b[i]\n",
    "\n",
    "    def __str__(self):\n",
    "        return 'Adagrad'"
   ]
  },
  {
   "attachments": {},
   "cell_type": "markdown",
   "metadata": {},
   "source": [
    "# Метод адаптивной оценки моментов (Adam)"
   ]
  },
  {
   "cell_type": "code",
   "execution_count": 44,
   "metadata": {},
   "outputs": [],
   "source": [
    "class Adam():\n",
    "    def __init__(self, learning_rate, beta1, beta2):\n",
    "        self.learning_rate = learning_rate\n",
    "        self.beta1 = beta1\n",
    "        self.beta2 = beta2\n",
    "\n",
    "    def init_network(self, network):\n",
    "        self.network = network\n",
    "        self.m_w = [None] + [np.zeros_like(self.network.weights[i]) for i in range(1, len(self.network.weights))]\n",
    "        self.v_w = [None] + [np.zeros_like(self.network.weights[i]) for i in range(1, len(self.network.weights))]\n",
    "        self.m_b = [None] + [np.zeros_like(self.network.biases[i]) for i in range(1, len(self.network.biases))]\n",
    "        self.v_b = [None] + [np.zeros_like(self.network.biases[i]) for i in range(1, len(self.network.biases))]\n",
    "        self.epoch = 1\n",
    "        \n",
    "    def update(self, grad_w, grad_b, batch, expected):\n",
    "        for i in range(1, len(self.network.layers)):\n",
    "            self.m_w[i] = self.beta1 * self.m_w[i] + (1 - self.beta1) * grad_w[i]\n",
    "            self.m_b[i] = self.beta1 * self.m_b[i] + (1 - self.beta1) * grad_b[i]\n",
    "            self.v_w[i] = self.beta2 * self.v_w[i] + (1 - self.beta2) * grad_w[i] ** 2\n",
    "            self.v_b[i] = self.beta2 * self.v_b[i] + (1 - self.beta2) * grad_b[i] ** 2\n",
    "\n",
    "            m_w_i = self.m_w[i] / (1 - self.beta1 ** self.epoch)\n",
    "            m_b_i = self.m_b[i] / (1 - self.beta1 ** self.epoch)\n",
    "            v_w_i = self.v_w[i] / (1 - self.beta2 ** self.epoch)\n",
    "            v_b_i = self.v_b[i] / (1 - self.beta2 ** self.epoch)\n",
    "            \n",
    "            self.network.weights[i] -= self.learning_rate * m_w_i / (np.sqrt(v_w_i) + 1e-8)\n",
    "            self.network.biases[i] -= self.learning_rate * m_b_i / (np.sqrt(v_b_i) + 1e-8)\n",
    "        self.epoch += 1\n",
    "\n",
    "    def __str__(self):\n",
    "        return 'Adam'"
   ]
  },
  {
   "attachments": {},
   "cell_type": "markdown",
   "metadata": {},
   "source": [
    "# Средняя квадратичная ошибка"
   ]
  },
  {
   "cell_type": "code",
   "execution_count": 18,
   "metadata": {},
   "outputs": [],
   "source": [
    "class MeanSquaredError():\n",
    "    # средняя квадратичная ошибка\n",
    "    @staticmethod\n",
    "    def calculate(expected, predicted):\n",
    "        return np.mean((expected - predicted) ** 2)"
   ]
  },
  {
   "attachments": {},
   "cell_type": "markdown",
   "metadata": {},
   "source": [
    "# Категориальная перекрёстная энтропия"
   ]
  },
  {
   "cell_type": "code",
   "execution_count": 19,
   "metadata": {},
   "outputs": [],
   "source": [
    "class CategorialCrossEntropy():\n",
    "    # категориальная перекрёстная энтропия\n",
    "    @staticmethod\n",
    "    def calculate(expected, predicted):\n",
    "        return -np.sum(expected * np.log(predicted + 1e-100))"
   ]
  },
  {
   "attachments": {},
   "cell_type": "markdown",
   "metadata": {},
   "source": [
    "# Дивергенция Кульбака-Лейблера"
   ]
  },
  {
   "cell_type": "code",
   "execution_count": 20,
   "metadata": {},
   "outputs": [],
   "source": [
    "class KLDivergence():\n",
    "    # дивергенция Кульбака-Лейблера\n",
    "    @staticmethod\n",
    "    def calculate(expected, predicted):\n",
    "        return np.sum(expected * np.log((expected + 1e-100) / (predicted + 1e-100)))"
   ]
  },
  {
   "attachments": {},
   "cell_type": "markdown",
   "metadata": {},
   "source": [
    "## Класс для представления многослойного персептрона"
   ]
  },
  {
   "cell_type": "code",
   "execution_count": 16,
   "metadata": {},
   "outputs": [],
   "source": [
    "class Perceptron:\n",
    "    def __init__(self, layers, optimizer):\n",
    "        # layers-- это кортеж, каждый элемент которого\n",
    "        # представляет количество нейронов в соответствующем слое \n",
    "        self.layers = layers\n",
    "        self.weights = [None]\n",
    "        self.biases = [None]\n",
    "        # инициализация весов и bias-ов в каждом слое\n",
    "        # для входного слоя веса и bias-ы не нужны\n",
    "        for i in range(1, len(self.layers)):\n",
    "            self.weights.append(np.random.normal(0.0, np.sqrt(2.0 / (self.layers[i - 1] + self.layers[i])), size=(self.layers[i], self.layers[i - 1])))\n",
    "            self.biases.append(np.random.normal(0.0,  np.sqrt(2.0 / (self.layers[i - 1] + self.layers[i])), size=self.layers[i]))\n",
    "        self.optimizer = optimizer\n",
    "        self.optimizer.init_network(self)\n",
    "    \n",
    "    @staticmethod\n",
    "    def relu(x):\n",
    "        #return 1 / (1 + np.exp(np.clip(-x, a_min=-100, a_max=100)))\n",
    "        return np.vectorize(lambda x: x if x >= 0 else 0)(x)\n",
    "    \n",
    "    @staticmethod\n",
    "    def softmax(x):\n",
    "        return np.exp(x - max(x)) / np.sum(np.exp(x - max(x)))\n",
    "    \n",
    "    def activate(self, x, activation):\n",
    "        if activation not in ('relu', 'softmax'):\n",
    "            raise Exception('activation should be \"relu\" or \"softmax\"')\n",
    "        if activation == 'relu':\n",
    "            return self.relu(x)\n",
    "        return np.apply_along_axis(self.softmax, 0, x)\n",
    "    \n",
    "    def activation_func_derivative(self, x, activation):\n",
    "        if activation not in ('relu', 'softmax'):\n",
    "            raise Exception('activation should be \"relu\" or \"softmax\"')\n",
    "        if activation == 'relu':\n",
    "             #return self.activate(x, 'relu') * (1 - self.activate(x, 'relu'))\n",
    "            return np.vectorize(lambda x: 1 if x >= 0 else 0)(x)\n",
    "        return self.activate(x, 'softmax') * (1 - self.activate(x, 'softmax'))\n",
    "    \n",
    "    def feedforward(self, input):\n",
    "        weighted_inputs, outputs = [None], [input]\n",
    "        for i in range(1, len(self.layers)):\n",
    "            weighted_input = np.dot(self.weights[i], outputs[i - 1]) + self.biases[i].reshape(self.layers[i], 1)\n",
    "            output = self.activate(weighted_input, 'relu') if i != len(self.layers) - 1 else self.activate(weighted_input, 'softmax')\n",
    "            weighted_inputs.append(weighted_input)\n",
    "            outputs.append(output)\n",
    "        return (weighted_inputs, outputs)\n",
    "    \n",
    "    def train(self, training_data, test_data, epochs, batch_size, loss_func, is_loss_funcs_plot_needed):\n",
    "        self.loss_func = loss_func\n",
    "        training_data = list(zip(training_data['training_images'], training_data['training_expected']))\n",
    "        x, y = [], []\n",
    "        for epoch in range(1, epochs + 1):\n",
    "            loss = 0\n",
    "            np.random.shuffle(training_data)\n",
    "            training_images, training_expected = zip(*training_data)\n",
    "            training_images, training_expected = np.array(training_images), np.array(training_expected)\n",
    "            n = 0\n",
    "            for i in range(0, training_images.shape[0], batch_size):\n",
    "                batch = training_images[i: i + batch_size]\n",
    "                expected = np.transpose(training_expected[i: i + batch_size])\n",
    "                weighted_inputs, predicted = self.feedforward(np.transpose(batch))\n",
    "                errors = self.backpropogate_error(weighted_inputs, predicted[-1], expected)\n",
    "                grad_w, grad_b = [None for _ in range(len(self.layers))], [None for _ in range(len(self.layers))]\n",
    "                for i in range(len(self.layers) - 1, 0, -1):\n",
    "                    grad_w[i] = np.dot(errors[i], np.transpose(predicted[i - 1])) / batch_size\n",
    "                    grad_b[i] = errors[i].sum(axis=1) / batch_size\n",
    "                self.optimizer.update(grad_w, grad_b, batch, expected)\n",
    "                loss += loss_func.calculate(expected=expected, predicted=predicted[-1]) / batch_size\n",
    "                n += 1\n",
    "            loss /= n\n",
    "            score, _ = self.predict(test_data=test_data)\n",
    "            # print(f'Epoch {epoch}\\{epochs}\\nloss: {loss: .2f}, accuracy: {score: .2f}%')\n",
    "            x.append(epoch)\n",
    "            y.append(loss)\n",
    "        self.loss_func_values = y\n",
    "        if is_loss_funcs_plot_needed:\n",
    "            self.plot_loss_funcs(x, y)\n",
    "\n",
    "    def backpropogate_error(self, weighted_inputs, predicted_data, expected_data):\n",
    "        errors = [None for _ in self.layers]\n",
    "        # errors[-1] = 2 * (predicted_data - expected_data) / predicted_data.shape[1] #* self.activation_func_derivative(weighted_inputs[-1], 'relu')\n",
    "        errors[-1] = predicted_data - expected_data\n",
    "        for i in range(len(self.layers) - 2, 0, -1):\n",
    "            errors[i] = np.dot(np.transpose(self.weights[i + 1]), errors[i + 1]) * \\\n",
    "                  self.activation_func_derivative(weighted_inputs[i], 'relu')\n",
    "        return errors\n",
    "    \n",
    "    def predict(self, test_data):\n",
    "        score, loss, n = 0, 0, 0\n",
    "        for test_image, test_expected in zip(test_data['test_images'], test_data['test_expected']):\n",
    "            predicted = self.feedforward(test_image.reshape(784, 1))[1][-1]\n",
    "            predicted_label = np.argmax(predicted)\n",
    "            expected_label = np.argmax(test_expected)\n",
    "            score = score + 1 if predicted_label == expected_label else score\n",
    "            loss += self.loss_func.calculate(expected=test_expected, predicted=predicted)\n",
    "            n += 1\n",
    "        return score / n * 100, loss / test_data['test_images'].shape[0]\n",
    "    \n",
    "    def plot_loss_funcs(self, x, y):\n",
    "        plt.xlabel('Epoch')\n",
    "        plt.ylabel('Loss')\n",
    "        plt.plot(x, y, label='cross_entropy_loss', c='red')\n",
    "        plt.legend(loc='upper right')\n",
    "        plt.show()\n",
    "            \n",
    "    def get_loss_values(self):\n",
    "        return self.loss_func_values"
   ]
  },
  {
   "attachments": {},
   "cell_type": "markdown",
   "metadata": {},
   "source": [
    "## Тестирование\n",
    "### Рисование цифры MNIST"
   ]
  },
  {
   "cell_type": "code",
   "execution_count": 10,
   "metadata": {},
   "outputs": [
    {
     "data": {
      "image/png": "[encoded data removed]",
      "text/plain": [
       "<Figure size 640x480 with 1 Axes>"
      ]
     },
     "metadata": {},
     "output_type": "display_data"
    }
   ],
   "source": [
    "mnist = load_mnist('mnist.pkl')\n",
    "draw_mnist_digit(mnist, example=7)"
   ]
  },
  {
   "attachments": {},
   "cell_type": "markdown",
   "metadata": {},
   "source": [
    "### Подготовка данных для обучения"
   ]
  },
  {
   "cell_type": "code",
   "execution_count": 11,
   "metadata": {},
   "outputs": [],
   "source": [
    "training_expected = np.array([[1.0 if i == label else 0 for i in range(10)] for label in mnist['training_labels']])\n",
    "training_data = dict(\n",
    "    training_images=mnist['training_images'],\n",
    "    training_expected=training_expected\n",
    ")\n",
    "test_expected = np.array([[1.0 if i == label else 0 for i in range(10)] for label in mnist['test_labels']])\n",
    "test_data = dict(\n",
    "    test_images=mnist['test_images'],\n",
    "    test_expected=test_expected\n",
    ")"
   ]
  },
  {
   "attachments": {},
   "cell_type": "markdown",
   "metadata": {},
   "source": [
    "### Обучение и тестирование многослойного персептрона\n",
    "В качестве функции активации используется `ReLu`, а на последнем слое - `Softmax`"
   ]
  },
  {
   "cell_type": "code",
   "execution_count": 21,
   "metadata": {},
   "outputs": [
    {
     "ename": "KeyboardInterrupt",
     "evalue": "",
     "output_type": "error",
     "traceback": [
      "\u001b[0;31m---------------------------------------------------------------------------\u001b[0m",
      "\u001b[0;31mKeyboardInterrupt\u001b[0m                         Traceback (most recent call last)",
      "Cell \u001b[0;32mIn[21], line 4\u001b[0m\n\u001b[1;32m      1\u001b[0m epochs \u001b[39m=\u001b[39m \u001b[39m10\u001b[39m\n\u001b[1;32m      3\u001b[0m perceptron \u001b[39m=\u001b[39m Perceptron(layers\u001b[39m=\u001b[39m(\u001b[39m784\u001b[39m, \u001b[39m32\u001b[39m, \u001b[39m32\u001b[39m, \u001b[39m32\u001b[39m, \u001b[39m10\u001b[39m), optimizer\u001b[39m=\u001b[39mSGD(\u001b[39m0.01\u001b[39m))\n\u001b[0;32m----> 4\u001b[0m perceptron\u001b[39m.\u001b[39;49mtrain(\n\u001b[1;32m      5\u001b[0m     training_data\u001b[39m=\u001b[39;49mtraining_data,\n\u001b[1;32m      6\u001b[0m     test_data\u001b[39m=\u001b[39;49mtest_data,\n\u001b[1;32m      7\u001b[0m     epochs\u001b[39m=\u001b[39;49mepochs,\n\u001b[1;32m      8\u001b[0m     batch_size\u001b[39m=\u001b[39;49m\u001b[39m70\u001b[39;49m,\n\u001b[1;32m      9\u001b[0m     loss_func\u001b[39m=\u001b[39;49mCategorialCrossEntropy(),\n\u001b[1;32m     10\u001b[0m     is_loss_funcs_plot_needed\u001b[39m=\u001b[39;49m\u001b[39mTrue\u001b[39;49;00m\n\u001b[1;32m     11\u001b[0m )\n\u001b[1;32m     12\u001b[0m score, _ \u001b[39m=\u001b[39m perceptron\u001b[39m.\u001b[39mpredict(test_data\u001b[39m=\u001b[39mtest_data)\n\u001b[1;32m     13\u001b[0m \u001b[39mprint\u001b[39m(\u001b[39mf\u001b[39m\u001b[39m'\u001b[39m\u001b[39mAccuracy of guessed numbers: \u001b[39m\u001b[39m{\u001b[39;00mscore\u001b[39m:\u001b[39;00m\u001b[39m .2f\u001b[39m\u001b[39m}\u001b[39;00m\u001b[39m%\u001b[39m\u001b[39m'\u001b[39m)\n",
      "Cell \u001b[0;32mIn[16], line 72\u001b[0m, in \u001b[0;36mPerceptron.train\u001b[0;34m(self, training_data, test_data, epochs, batch_size, loss_func, is_loss_funcs_plot_needed)\u001b[0m\n\u001b[1;32m     70\u001b[0m     n \u001b[39m+\u001b[39m\u001b[39m=\u001b[39m \u001b[39m1\u001b[39m\n\u001b[1;32m     71\u001b[0m loss \u001b[39m/\u001b[39m\u001b[39m=\u001b[39m n\n\u001b[0;32m---> 72\u001b[0m score, _ \u001b[39m=\u001b[39m \u001b[39mself\u001b[39;49m\u001b[39m.\u001b[39;49mpredict(test_data\u001b[39m=\u001b[39;49mtest_data)\n\u001b[1;32m     73\u001b[0m \u001b[39m# print(f'Epoch {epoch}\\{epochs}\\nloss: {loss: .2f}, accuracy: {score: .2f}%')\u001b[39;00m\n\u001b[1;32m     74\u001b[0m x\u001b[39m.\u001b[39mappend(epoch)\n",
      "Cell \u001b[0;32mIn[16], line 92\u001b[0m, in \u001b[0;36mPerceptron.predict\u001b[0;34m(self, test_data)\u001b[0m\n\u001b[1;32m     90\u001b[0m score, loss, n \u001b[39m=\u001b[39m \u001b[39m0\u001b[39m, \u001b[39m0\u001b[39m, \u001b[39m0\u001b[39m\n\u001b[1;32m     91\u001b[0m \u001b[39mfor\u001b[39;00m test_image, test_expected \u001b[39min\u001b[39;00m \u001b[39mzip\u001b[39m(test_data[\u001b[39m'\u001b[39m\u001b[39mtest_images\u001b[39m\u001b[39m'\u001b[39m], test_data[\u001b[39m'\u001b[39m\u001b[39mtest_expected\u001b[39m\u001b[39m'\u001b[39m]):\n\u001b[0;32m---> 92\u001b[0m     predicted \u001b[39m=\u001b[39m \u001b[39mself\u001b[39;49m\u001b[39m.\u001b[39;49mfeedforward(test_image\u001b[39m.\u001b[39;49mreshape(\u001b[39m784\u001b[39;49m, \u001b[39m1\u001b[39;49m))[\u001b[39m1\u001b[39m][\u001b[39m-\u001b[39m\u001b[39m1\u001b[39m]\n\u001b[1;32m     93\u001b[0m     predicted_label \u001b[39m=\u001b[39m np\u001b[39m.\u001b[39margmax(predicted)\n\u001b[1;32m     94\u001b[0m     expected_label \u001b[39m=\u001b[39m np\u001b[39m.\u001b[39margmax(test_expected)\n",
      "Cell \u001b[0;32mIn[16], line 44\u001b[0m, in \u001b[0;36mPerceptron.feedforward\u001b[0;34m(self, input)\u001b[0m\n\u001b[1;32m     42\u001b[0m \u001b[39mfor\u001b[39;00m i \u001b[39min\u001b[39;00m \u001b[39mrange\u001b[39m(\u001b[39m1\u001b[39m, \u001b[39mlen\u001b[39m(\u001b[39mself\u001b[39m\u001b[39m.\u001b[39mlayers)):\n\u001b[1;32m     43\u001b[0m     weighted_input \u001b[39m=\u001b[39m np\u001b[39m.\u001b[39mdot(\u001b[39mself\u001b[39m\u001b[39m.\u001b[39mweights[i], outputs[i \u001b[39m-\u001b[39m \u001b[39m1\u001b[39m]) \u001b[39m+\u001b[39m \u001b[39mself\u001b[39m\u001b[39m.\u001b[39mbiases[i]\u001b[39m.\u001b[39mreshape(\u001b[39mself\u001b[39m\u001b[39m.\u001b[39mlayers[i], \u001b[39m1\u001b[39m)\n\u001b[0;32m---> 44\u001b[0m     output \u001b[39m=\u001b[39m \u001b[39mself\u001b[39;49m\u001b[39m.\u001b[39;49mactivate(weighted_input, \u001b[39m'\u001b[39;49m\u001b[39mrelu\u001b[39;49m\u001b[39m'\u001b[39;49m) \u001b[39mif\u001b[39;00m i \u001b[39m!=\u001b[39m \u001b[39mlen\u001b[39m(\u001b[39mself\u001b[39m\u001b[39m.\u001b[39mlayers) \u001b[39m-\u001b[39m \u001b[39m1\u001b[39m \u001b[39melse\u001b[39;00m \u001b[39mself\u001b[39m\u001b[39m.\u001b[39mactivate(weighted_input, \u001b[39m'\u001b[39m\u001b[39msoftmax\u001b[39m\u001b[39m'\u001b[39m)\n\u001b[1;32m     45\u001b[0m     weighted_inputs\u001b[39m.\u001b[39mappend(weighted_input)\n\u001b[1;32m     46\u001b[0m     outputs\u001b[39m.\u001b[39mappend(output)\n",
      "Cell \u001b[0;32mIn[16], line 29\u001b[0m, in \u001b[0;36mPerceptron.activate\u001b[0;34m(self, x, activation)\u001b[0m\n\u001b[1;32m     27\u001b[0m     \u001b[39mraise\u001b[39;00m \u001b[39mException\u001b[39;00m(\u001b[39m'\u001b[39m\u001b[39mactivation should be \u001b[39m\u001b[39m\"\u001b[39m\u001b[39mrelu\u001b[39m\u001b[39m\"\u001b[39m\u001b[39m or \u001b[39m\u001b[39m\"\u001b[39m\u001b[39msoftmax\u001b[39m\u001b[39m\"\u001b[39m\u001b[39m'\u001b[39m)\n\u001b[1;32m     28\u001b[0m \u001b[39mif\u001b[39;00m activation \u001b[39m==\u001b[39m \u001b[39m'\u001b[39m\u001b[39mrelu\u001b[39m\u001b[39m'\u001b[39m:\n\u001b[0;32m---> 29\u001b[0m     \u001b[39mreturn\u001b[39;00m \u001b[39mself\u001b[39;49m\u001b[39m.\u001b[39;49mrelu(x)\n\u001b[1;32m     30\u001b[0m \u001b[39mreturn\u001b[39;00m np\u001b[39m.\u001b[39mapply_along_axis(\u001b[39mself\u001b[39m\u001b[39m.\u001b[39msoftmax, \u001b[39m0\u001b[39m, x)\n",
      "Cell \u001b[0;32mIn[16], line 19\u001b[0m, in \u001b[0;36mPerceptron.relu\u001b[0;34m(x)\u001b[0m\n\u001b[1;32m     16\u001b[0m \u001b[39m@staticmethod\u001b[39m\n\u001b[1;32m     17\u001b[0m \u001b[39mdef\u001b[39;00m \u001b[39mrelu\u001b[39m(x):\n\u001b[1;32m     18\u001b[0m     \u001b[39m#return 1 / (1 + np.exp(np.clip(-x, a_min=-100, a_max=100)))\u001b[39;00m\n\u001b[0;32m---> 19\u001b[0m     \u001b[39mreturn\u001b[39;00m np\u001b[39m.\u001b[39;49mvectorize(\u001b[39mlambda\u001b[39;49;00m x: x \u001b[39mif\u001b[39;49;00m x \u001b[39m>\u001b[39;49m\u001b[39m=\u001b[39;49m \u001b[39m0\u001b[39;49m \u001b[39melse\u001b[39;49;00m \u001b[39m0\u001b[39;49m)(x)\n",
      "File \u001b[0;32m~/Documents/NeuralNetworks/venv/lib/python3.9/site-packages/numpy/lib/function_base.py:2372\u001b[0m, in \u001b[0;36mvectorize.__call__\u001b[0;34m(self, *args, **kwargs)\u001b[0m\n\u001b[1;32m   2369\u001b[0m     \u001b[39mself\u001b[39m\u001b[39m.\u001b[39m_init_stage_2(\u001b[39m*\u001b[39margs, \u001b[39m*\u001b[39m\u001b[39m*\u001b[39mkwargs)\n\u001b[1;32m   2370\u001b[0m     \u001b[39mreturn\u001b[39;00m \u001b[39mself\u001b[39m\n\u001b[0;32m-> 2372\u001b[0m \u001b[39mreturn\u001b[39;00m \u001b[39mself\u001b[39;49m\u001b[39m.\u001b[39;49m_call_as_normal(\u001b[39m*\u001b[39;49margs, \u001b[39m*\u001b[39;49m\u001b[39m*\u001b[39;49mkwargs)\n",
      "File \u001b[0;32m~/Documents/NeuralNetworks/venv/lib/python3.9/site-packages/numpy/lib/function_base.py:2365\u001b[0m, in \u001b[0;36mvectorize._call_as_normal\u001b[0;34m(self, *args, **kwargs)\u001b[0m\n\u001b[1;32m   2362\u001b[0m     vargs \u001b[39m=\u001b[39m [args[_i] \u001b[39mfor\u001b[39;00m _i \u001b[39min\u001b[39;00m inds]\n\u001b[1;32m   2363\u001b[0m     vargs\u001b[39m.\u001b[39mextend([kwargs[_n] \u001b[39mfor\u001b[39;00m _n \u001b[39min\u001b[39;00m names])\n\u001b[0;32m-> 2365\u001b[0m \u001b[39mreturn\u001b[39;00m \u001b[39mself\u001b[39;49m\u001b[39m.\u001b[39;49m_vectorize_call(func\u001b[39m=\u001b[39;49mfunc, args\u001b[39m=\u001b[39;49mvargs)\n",
      "File \u001b[0;32m~/Documents/NeuralNetworks/venv/lib/python3.9/site-packages/numpy/lib/function_base.py:2455\u001b[0m, in \u001b[0;36mvectorize._vectorize_call\u001b[0;34m(self, func, args)\u001b[0m\n\u001b[1;32m   2452\u001b[0m \u001b[39m# Convert args to object arrays first\u001b[39;00m\n\u001b[1;32m   2453\u001b[0m inputs \u001b[39m=\u001b[39m [asanyarray(a, dtype\u001b[39m=\u001b[39m\u001b[39mobject\u001b[39m) \u001b[39mfor\u001b[39;00m a \u001b[39min\u001b[39;00m args]\n\u001b[0;32m-> 2455\u001b[0m outputs \u001b[39m=\u001b[39m ufunc(\u001b[39m*\u001b[39;49minputs)\n\u001b[1;32m   2457\u001b[0m \u001b[39mif\u001b[39;00m ufunc\u001b[39m.\u001b[39mnout \u001b[39m==\u001b[39m \u001b[39m1\u001b[39m:\n\u001b[1;32m   2458\u001b[0m     res \u001b[39m=\u001b[39m asanyarray(outputs, dtype\u001b[39m=\u001b[39motypes[\u001b[39m0\u001b[39m])\n",
      "Cell \u001b[0;32mIn[16], line 19\u001b[0m, in \u001b[0;36mPerceptron.relu.<locals>.<lambda>\u001b[0;34m(x)\u001b[0m\n\u001b[1;32m     16\u001b[0m \u001b[39m@staticmethod\u001b[39m\n\u001b[1;32m     17\u001b[0m \u001b[39mdef\u001b[39;00m \u001b[39mrelu\u001b[39m(x):\n\u001b[1;32m     18\u001b[0m     \u001b[39m#return 1 / (1 + np.exp(np.clip(-x, a_min=-100, a_max=100)))\u001b[39;00m\n\u001b[0;32m---> 19\u001b[0m     \u001b[39mreturn\u001b[39;00m np\u001b[39m.\u001b[39mvectorize(\u001b[39mlambda\u001b[39;00m x: x \u001b[39mif\u001b[39;00m x \u001b[39m>\u001b[39;49m\u001b[39m=\u001b[39;49m \u001b[39m0\u001b[39;49m \u001b[39melse\u001b[39;00m \u001b[39m0\u001b[39m)(x)\n",
      "\u001b[0;31mKeyboardInterrupt\u001b[0m: "
     ]
    }
   ],
   "source": [
    "epochs = 10\n",
    "\n",
    "perceptron = Perceptron(layers=(784, 32, 32, 32, 10), optimizer=SGD(0.01))\n",
    "perceptron.train(\n",
    "    training_data=training_data,\n",
    "    test_data=test_data,\n",
    "    epochs=epochs,\n",
    "    batch_size=70,\n",
    "    loss_func=CategorialCrossEntropy(),\n",
    "    is_loss_funcs_plot_needed=True\n",
    ")\n",
    "score, _ = perceptron.predict(test_data=test_data)\n",
    "print(f'Accuracy of guessed numbers: {score: .2f}%')"
   ]
  },
  {
   "attachments": {},
   "cell_type": "markdown",
   "metadata": {},
   "source": [
    "### Использование методов оптимизации"
   ]
  },
  {
   "cell_type": "code",
   "execution_count": null,
   "metadata": {},
   "outputs": [
    {
     "name": "stdout",
     "output_type": "stream",
     "text": [
      "Optimization method: SGD\n",
      "Accuracy of guessed numbers: 92.07%\n",
      "Optimization method: NAG\n",
      "Accuracy of guessed numbers: 95.09%\n",
      "Optimization method: Adagrad\n",
      "Accuracy of guessed numbers: 93.63%\n",
      "Optimization method: Adam\n",
      "Accuracy of guessed numbers: 95.26%\n"
     ]
    },
    {
     "data": {
      "image/png": "[encoded data removed]",
      "text/plain": [
       "<Figure size 640x480 with 1 Axes>"
      ]
     },
     "metadata": {},
     "output_type": "display_data"
    }
   ],
   "source": [
    "optimizers = (\n",
    "    SGD(0.01),\n",
    "    NAG(0.01, 0.9),\n",
    "    Adagrad(0.01),\n",
    "    Adam(0.01, 0.9, 0.99)\n",
    ")\n",
    "\n",
    "y_s = list()\n",
    "for optimizer in optimizers:\n",
    "    perceptron = Perceptron(layers=(784, 18, 10), optimizer=optimizer)\n",
    "    perceptron.train(\n",
    "        training_data=training_data,\n",
    "        test_data=test_data,\n",
    "        epochs=epochs,\n",
    "        batch_size=70,\n",
    "        loss_func=CategorialCrossEntropy(),\n",
    "        is_loss_funcs_plot_needed=False\n",
    "    )\n",
    "    y_s.append(perceptron.get_loss_values())\n",
    "    score, _ = perceptron.predict(test_data=test_data)\n",
    "    print(f'Optimization method: {str(optimizer)}')\n",
    "    print(f'Accuracy of guessed numbers: {score}%')\n",
    "\n",
    "for i, optimizer in enumerate(optimizers):\n",
    "    x, y = range(1, epochs + 1), y_s[i]\n",
    "    plt.plot(x, y, label=str(optimizer))\n",
    "plt.legend(bbox_to_anchor=(1, 1), loc='upper left')\n",
    "plt.show()"
   ]
  },
  {
   "attachments": {},
   "cell_type": "markdown",
   "metadata": {},
   "source": [
    "## Оптимизация гиперпараметров (число слоёв, число нейронов в слое)\n",
    "### Использование для этой цели генетического алгоритма"
   ]
  },
  {
   "cell_type": "code",
   "execution_count": 24,
   "metadata": {},
   "outputs": [
    {
     "ename": "KeyboardInterrupt",
     "evalue": "",
     "output_type": "error",
     "traceback": [
      "\u001b[0;31m---------------------------------------------------------------------------\u001b[0m",
      "\u001b[0;31mKeyboardInterrupt\u001b[0m                         Traceback (most recent call last)",
      "Cell \u001b[0;32mIn[24], line 106\u001b[0m\n\u001b[1;32m    103\u001b[0m     best_individual \u001b[39m=\u001b[39m population[np\u001b[39m.\u001b[39margmax(fitness_values_individuals)]\n\u001b[1;32m    104\u001b[0m     \u001b[39mreturn\u001b[39;00m best_individual, fitness_values_individuals[np\u001b[39m.\u001b[39margmax(fitness_values_individuals)]\n\u001b[0;32m--> 106\u001b[0m x, y \u001b[39m=\u001b[39m genetic_algorithm()\n\u001b[1;32m    107\u001b[0m \u001b[39mprint\u001b[39m(\u001b[39mf\u001b[39m\u001b[39m'\u001b[39m\u001b[39mBest individual: \u001b[39m\u001b[39m{\u001b[39;00mx\u001b[39m}\u001b[39;00m\u001b[39m'\u001b[39m)\n",
      "Cell \u001b[0;32mIn[24], line 50\u001b[0m, in \u001b[0;36mgenetic_algorithm\u001b[0;34m()\u001b[0m\n\u001b[1;32m     47\u001b[0m fitness_values_individuals_hist \u001b[39m=\u001b[39m {}\n\u001b[1;32m     48\u001b[0m fitness_values_individuals \u001b[39m=\u001b[39m []\n\u001b[0;32m---> 50\u001b[0m \u001b[39mfor\u001b[39;00m genome, fitness_value \u001b[39min\u001b[39;00m \u001b[39mzip\u001b[39m(population, np\u001b[39m.\u001b[39marray(\u001b[39mlist\u001b[39;49m(\u001b[39mmap\u001b[39;49m(fitness_func, population)))):\n\u001b[1;32m     51\u001b[0m     fitness_values_individuals_hist[\u001b[39mstr\u001b[39m(genome)] \u001b[39m=\u001b[39m fitness_value\n\u001b[1;32m     52\u001b[0m     fitness_values_individuals\u001b[39m.\u001b[39mappend(fitness_value)\n",
      "Cell \u001b[0;32mIn[24], line 28\u001b[0m, in \u001b[0;36mfitness_func\u001b[0;34m(genome)\u001b[0m\n\u001b[1;32m     26\u001b[0m \u001b[39mdef\u001b[39;00m \u001b[39mfitness_func\u001b[39m(genome):\n\u001b[1;32m     27\u001b[0m     start_time \u001b[39m=\u001b[39m time\u001b[39m.\u001b[39mtime()\n\u001b[0;32m---> 28\u001b[0m     accuracy \u001b[39m=\u001b[39m train_and_evaluate(genome)\n\u001b[1;32m     29\u001b[0m     end_time \u001b[39m=\u001b[39m time\u001b[39m.\u001b[39mtime()\n\u001b[1;32m     30\u001b[0m     completion_time \u001b[39m=\u001b[39m end_time \u001b[39m-\u001b[39m start_time\n",
      "Cell \u001b[0;32mIn[24], line 15\u001b[0m, in \u001b[0;36mtrain_and_evaluate\u001b[0;34m(genome)\u001b[0m\n\u001b[1;32m     13\u001b[0m \u001b[39mdef\u001b[39;00m \u001b[39mtrain_and_evaluate\u001b[39m(genome):\n\u001b[1;32m     14\u001b[0m     network \u001b[39m=\u001b[39m create_neural_network(genome)\n\u001b[0;32m---> 15\u001b[0m     network\u001b[39m.\u001b[39;49mtrain(\n\u001b[1;32m     16\u001b[0m         training_data\u001b[39m=\u001b[39;49mtraining_data,\n\u001b[1;32m     17\u001b[0m         test_data\u001b[39m=\u001b[39;49mtest_data,\n\u001b[1;32m     18\u001b[0m         epochs\u001b[39m=\u001b[39;49mepochs,\n\u001b[1;32m     19\u001b[0m         batch_size\u001b[39m=\u001b[39;49m\u001b[39m70\u001b[39;49m,\n\u001b[1;32m     20\u001b[0m         loss_func\u001b[39m=\u001b[39;49mCategorialCrossEntropy(),\n\u001b[1;32m     21\u001b[0m         is_loss_funcs_plot_needed\u001b[39m=\u001b[39;49m\u001b[39mFalse\u001b[39;49;00m\n\u001b[1;32m     22\u001b[0m     )\n\u001b[1;32m     23\u001b[0m     accuracy, _ \u001b[39m=\u001b[39m network\u001b[39m.\u001b[39mpredict(test_data\u001b[39m=\u001b[39mtest_data)\n\u001b[1;32m     24\u001b[0m     \u001b[39mreturn\u001b[39;00m accuracy\n",
      "Cell \u001b[0;32mIn[16], line 72\u001b[0m, in \u001b[0;36mPerceptron.train\u001b[0;34m(self, training_data, test_data, epochs, batch_size, loss_func, is_loss_funcs_plot_needed)\u001b[0m\n\u001b[1;32m     70\u001b[0m     n \u001b[39m+\u001b[39m\u001b[39m=\u001b[39m \u001b[39m1\u001b[39m\n\u001b[1;32m     71\u001b[0m loss \u001b[39m/\u001b[39m\u001b[39m=\u001b[39m n\n\u001b[0;32m---> 72\u001b[0m score, _ \u001b[39m=\u001b[39m \u001b[39mself\u001b[39;49m\u001b[39m.\u001b[39;49mpredict(test_data\u001b[39m=\u001b[39;49mtest_data)\n\u001b[1;32m     73\u001b[0m \u001b[39m# print(f'Epoch {epoch}\\{epochs}\\nloss: {loss: .2f}, accuracy: {score: .2f}%')\u001b[39;00m\n\u001b[1;32m     74\u001b[0m x\u001b[39m.\u001b[39mappend(epoch)\n",
      "Cell \u001b[0;32mIn[16], line 92\u001b[0m, in \u001b[0;36mPerceptron.predict\u001b[0;34m(self, test_data)\u001b[0m\n\u001b[1;32m     90\u001b[0m score, loss, n \u001b[39m=\u001b[39m \u001b[39m0\u001b[39m, \u001b[39m0\u001b[39m, \u001b[39m0\u001b[39m\n\u001b[1;32m     91\u001b[0m \u001b[39mfor\u001b[39;00m test_image, test_expected \u001b[39min\u001b[39;00m \u001b[39mzip\u001b[39m(test_data[\u001b[39m'\u001b[39m\u001b[39mtest_images\u001b[39m\u001b[39m'\u001b[39m], test_data[\u001b[39m'\u001b[39m\u001b[39mtest_expected\u001b[39m\u001b[39m'\u001b[39m]):\n\u001b[0;32m---> 92\u001b[0m     predicted \u001b[39m=\u001b[39m \u001b[39mself\u001b[39;49m\u001b[39m.\u001b[39;49mfeedforward(test_image\u001b[39m.\u001b[39;49mreshape(\u001b[39m784\u001b[39;49m, \u001b[39m1\u001b[39;49m))[\u001b[39m1\u001b[39m][\u001b[39m-\u001b[39m\u001b[39m1\u001b[39m]\n\u001b[1;32m     93\u001b[0m     predicted_label \u001b[39m=\u001b[39m np\u001b[39m.\u001b[39margmax(predicted)\n\u001b[1;32m     94\u001b[0m     expected_label \u001b[39m=\u001b[39m np\u001b[39m.\u001b[39margmax(test_expected)\n",
      "Cell \u001b[0;32mIn[16], line 44\u001b[0m, in \u001b[0;36mPerceptron.feedforward\u001b[0;34m(self, input)\u001b[0m\n\u001b[1;32m     42\u001b[0m \u001b[39mfor\u001b[39;00m i \u001b[39min\u001b[39;00m \u001b[39mrange\u001b[39m(\u001b[39m1\u001b[39m, \u001b[39mlen\u001b[39m(\u001b[39mself\u001b[39m\u001b[39m.\u001b[39mlayers)):\n\u001b[1;32m     43\u001b[0m     weighted_input \u001b[39m=\u001b[39m np\u001b[39m.\u001b[39mdot(\u001b[39mself\u001b[39m\u001b[39m.\u001b[39mweights[i], outputs[i \u001b[39m-\u001b[39m \u001b[39m1\u001b[39m]) \u001b[39m+\u001b[39m \u001b[39mself\u001b[39m\u001b[39m.\u001b[39mbiases[i]\u001b[39m.\u001b[39mreshape(\u001b[39mself\u001b[39m\u001b[39m.\u001b[39mlayers[i], \u001b[39m1\u001b[39m)\n\u001b[0;32m---> 44\u001b[0m     output \u001b[39m=\u001b[39m \u001b[39mself\u001b[39;49m\u001b[39m.\u001b[39;49mactivate(weighted_input, \u001b[39m'\u001b[39;49m\u001b[39mrelu\u001b[39;49m\u001b[39m'\u001b[39;49m) \u001b[39mif\u001b[39;00m i \u001b[39m!=\u001b[39m \u001b[39mlen\u001b[39m(\u001b[39mself\u001b[39m\u001b[39m.\u001b[39mlayers) \u001b[39m-\u001b[39m \u001b[39m1\u001b[39m \u001b[39melse\u001b[39;00m \u001b[39mself\u001b[39m\u001b[39m.\u001b[39mactivate(weighted_input, \u001b[39m'\u001b[39m\u001b[39msoftmax\u001b[39m\u001b[39m'\u001b[39m)\n\u001b[1;32m     45\u001b[0m     weighted_inputs\u001b[39m.\u001b[39mappend(weighted_input)\n\u001b[1;32m     46\u001b[0m     outputs\u001b[39m.\u001b[39mappend(output)\n",
      "Cell \u001b[0;32mIn[16], line 29\u001b[0m, in \u001b[0;36mPerceptron.activate\u001b[0;34m(self, x, activation)\u001b[0m\n\u001b[1;32m     27\u001b[0m     \u001b[39mraise\u001b[39;00m \u001b[39mException\u001b[39;00m(\u001b[39m'\u001b[39m\u001b[39mactivation should be \u001b[39m\u001b[39m\"\u001b[39m\u001b[39mrelu\u001b[39m\u001b[39m\"\u001b[39m\u001b[39m or \u001b[39m\u001b[39m\"\u001b[39m\u001b[39msoftmax\u001b[39m\u001b[39m\"\u001b[39m\u001b[39m'\u001b[39m)\n\u001b[1;32m     28\u001b[0m \u001b[39mif\u001b[39;00m activation \u001b[39m==\u001b[39m \u001b[39m'\u001b[39m\u001b[39mrelu\u001b[39m\u001b[39m'\u001b[39m:\n\u001b[0;32m---> 29\u001b[0m     \u001b[39mreturn\u001b[39;00m \u001b[39mself\u001b[39;49m\u001b[39m.\u001b[39;49mrelu(x)\n\u001b[1;32m     30\u001b[0m \u001b[39mreturn\u001b[39;00m np\u001b[39m.\u001b[39mapply_along_axis(\u001b[39mself\u001b[39m\u001b[39m.\u001b[39msoftmax, \u001b[39m0\u001b[39m, x)\n",
      "Cell \u001b[0;32mIn[16], line 19\u001b[0m, in \u001b[0;36mPerceptron.relu\u001b[0;34m(x)\u001b[0m\n\u001b[1;32m     16\u001b[0m \u001b[39m@staticmethod\u001b[39m\n\u001b[1;32m     17\u001b[0m \u001b[39mdef\u001b[39;00m \u001b[39mrelu\u001b[39m(x):\n\u001b[1;32m     18\u001b[0m     \u001b[39m#return 1 / (1 + np.exp(np.clip(-x, a_min=-100, a_max=100)))\u001b[39;00m\n\u001b[0;32m---> 19\u001b[0m     \u001b[39mreturn\u001b[39;00m np\u001b[39m.\u001b[39;49mvectorize(\u001b[39mlambda\u001b[39;49;00m x: x \u001b[39mif\u001b[39;49;00m x \u001b[39m>\u001b[39;49m\u001b[39m=\u001b[39;49m \u001b[39m0\u001b[39;49m \u001b[39melse\u001b[39;49;00m \u001b[39m0\u001b[39;49m)(x)\n",
      "File \u001b[0;32m~/Documents/NeuralNetworks/venv/lib/python3.9/site-packages/numpy/lib/function_base.py:2372\u001b[0m, in \u001b[0;36mvectorize.__call__\u001b[0;34m(self, *args, **kwargs)\u001b[0m\n\u001b[1;32m   2369\u001b[0m     \u001b[39mself\u001b[39m\u001b[39m.\u001b[39m_init_stage_2(\u001b[39m*\u001b[39margs, \u001b[39m*\u001b[39m\u001b[39m*\u001b[39mkwargs)\n\u001b[1;32m   2370\u001b[0m     \u001b[39mreturn\u001b[39;00m \u001b[39mself\u001b[39m\n\u001b[0;32m-> 2372\u001b[0m \u001b[39mreturn\u001b[39;00m \u001b[39mself\u001b[39;49m\u001b[39m.\u001b[39;49m_call_as_normal(\u001b[39m*\u001b[39;49margs, \u001b[39m*\u001b[39;49m\u001b[39m*\u001b[39;49mkwargs)\n",
      "File \u001b[0;32m~/Documents/NeuralNetworks/venv/lib/python3.9/site-packages/numpy/lib/function_base.py:2365\u001b[0m, in \u001b[0;36mvectorize._call_as_normal\u001b[0;34m(self, *args, **kwargs)\u001b[0m\n\u001b[1;32m   2362\u001b[0m     vargs \u001b[39m=\u001b[39m [args[_i] \u001b[39mfor\u001b[39;00m _i \u001b[39min\u001b[39;00m inds]\n\u001b[1;32m   2363\u001b[0m     vargs\u001b[39m.\u001b[39mextend([kwargs[_n] \u001b[39mfor\u001b[39;00m _n \u001b[39min\u001b[39;00m names])\n\u001b[0;32m-> 2365\u001b[0m \u001b[39mreturn\u001b[39;00m \u001b[39mself\u001b[39;49m\u001b[39m.\u001b[39;49m_vectorize_call(func\u001b[39m=\u001b[39;49mfunc, args\u001b[39m=\u001b[39;49mvargs)\n",
      "File \u001b[0;32m~/Documents/NeuralNetworks/venv/lib/python3.9/site-packages/numpy/lib/function_base.py:2453\u001b[0m, in \u001b[0;36mvectorize._vectorize_call\u001b[0;34m(self, func, args)\u001b[0m\n\u001b[1;32m   2450\u001b[0m ufunc, otypes \u001b[39m=\u001b[39m \u001b[39mself\u001b[39m\u001b[39m.\u001b[39m_get_ufunc_and_otypes(func\u001b[39m=\u001b[39mfunc, args\u001b[39m=\u001b[39margs)\n\u001b[1;32m   2452\u001b[0m \u001b[39m# Convert args to object arrays first\u001b[39;00m\n\u001b[0;32m-> 2453\u001b[0m inputs \u001b[39m=\u001b[39m [asanyarray(a, dtype\u001b[39m=\u001b[39m\u001b[39mobject\u001b[39m) \u001b[39mfor\u001b[39;00m a \u001b[39min\u001b[39;00m args]\n\u001b[1;32m   2455\u001b[0m outputs \u001b[39m=\u001b[39m ufunc(\u001b[39m*\u001b[39minputs)\n\u001b[1;32m   2457\u001b[0m \u001b[39mif\u001b[39;00m ufunc\u001b[39m.\u001b[39mnout \u001b[39m==\u001b[39m \u001b[39m1\u001b[39m:\n",
      "\u001b[0;31mKeyboardInterrupt\u001b[0m: "
     ]
    }
   ],
   "source": [
    "epochs = 100\n",
    "\n",
    "training_data['training_images'] = training_data['training_images'][:2000]\n",
    "training_data['training_expected'] = training_data['training_expected'][:2000]\n",
    "test_data['test_images'] = test_data['test_images'][:2000]\n",
    "test_data['test_expected'] = test_data['test_expected'][:2000]\n",
    "\n",
    "def create_neural_network(genome):\n",
    "    # genome[0] - количество слоев, genome[1] - количество нейронов в промежуточном слое\n",
    "    network = Perceptron(layers=[784] +  genome[0] * [genome[1]] + [10], optimizer=SGD(0.01))\n",
    "    return network\n",
    "\n",
    "def train_and_evaluate(genome):\n",
    "    network = create_neural_network(genome)\n",
    "    network.train(\n",
    "        training_data=training_data,\n",
    "        test_data=test_data,\n",
    "        epochs=epochs,\n",
    "        batch_size=70,\n",
    "        loss_func=CategorialCrossEntropy(),\n",
    "        is_loss_funcs_plot_needed=False\n",
    "    )\n",
    "    accuracy, _ = network.predict(test_data=test_data)\n",
    "    return accuracy\n",
    "    \n",
    "def fitness_func(genome):\n",
    "    start_time = time.time()\n",
    "    accuracy = train_and_evaluate(genome)\n",
    "    end_time = time.time()\n",
    "    completion_time = end_time - start_time\n",
    "    \n",
    "    return accuracy / 10 if accuracy < 74 else 10 + (accuracy - 74) ** 4 - (completion_time / 60) \n",
    "\n",
    "def genetic_algorithm() -> tuple[np.ndarray, float]:\n",
    "    t, Np, k, Mp = 0, 4, 1, 10\n",
    "    # размер генома\n",
    "    n = 2\n",
    "    # формируем исходную популяцию с количеством особей Mp\n",
    "    population = []\n",
    "    Mp = 0\n",
    "    for i in range(1, 3):\n",
    "        for j in range (1, 5):\n",
    "            Mp += 1\n",
    "            population.append([i, j])\n",
    "\n",
    "    population = np.array(population)\n",
    "    fitness_values_individuals_hist = {}\n",
    "    fitness_values_individuals = []\n",
    "\n",
    "    for genome, fitness_value in zip(population, np.array(list(map(fitness_func, population)))):\n",
    "        fitness_values_individuals_hist[str(genome)] = fitness_value\n",
    "        fitness_values_individuals.append(fitness_value)\n",
    "\n",
    "    # print(population)\n",
    "    # print(fitness_values_individuals_hist)\n",
    "\n",
    "    fitness_value_population = np.sum(fitness_values_individuals)\n",
    "\n",
    "    while t != Np:\n",
    "        k = 1\n",
    "        while k < Mp:\n",
    "            # этап селекции (отбора особей) для последующего их скрещивания\n",
    "            q = fitness_values_individuals / fitness_value_population\n",
    "            new_population = [population[np.random.choice(len(population), p=q)] for _ in range(Mp)]\n",
    "\n",
    "            # этап скрещивания\n",
    "            Pc = 0.5\n",
    "            parent_indices = []\n",
    "            for i in range(len(new_population)):\n",
    "                r = np.random.random()\n",
    "                if r < Pc:\n",
    "                    parent_indices.append(i)\n",
    "\n",
    "            for parent1_index, parent2_index in zip(parent_indices[0::2], parent_indices[1::2]):\n",
    "                c = np.random.random()\n",
    "                parent1, parent2 = new_population[parent1_index], new_population[parent2_index]\n",
    "                parent1 = c * parent1 + (1 - c) * parent2\n",
    "                parent2 = (1 - c) * parent1 + c * parent2\n",
    "                \n",
    "            # этап мутации\n",
    "            Pm = 0.2\n",
    "            for i in range(len(new_population)):\n",
    "                r = np.random.random()\n",
    "                if r < Pm:\n",
    "                    p = np.random.randint(0, n, 1)\n",
    "                    if p == 0:\n",
    "                        new_population[i][p] = np.random.randint(1, 16)\n",
    "                    else:\n",
    "                        new_population[i][p] = np.random.randint(1, 33)\n",
    "\n",
    "            population[:] = new_population\n",
    "\n",
    "            fitness_values_individuals = []\n",
    "            for genome in population:\n",
    "                if fitness_values_individuals_hist.get(str(genome)) is None:\n",
    "                    fitness_values_individuals_hist[str(genome)] = fitness_func(genome)\n",
    "                fitness_values_individuals.append(fitness_values_individuals_hist[str(genome)])\n",
    "            \n",
    "            fitness_value_population = np.sum(fitness_values_individuals)\n",
    "            k += 1\n",
    "        t += 1\n",
    "    # print(list(zip(population, fitness_values_individuals)))\n",
    "    best_individual = population[np.argmax(fitness_values_individuals)]\n",
    "    return best_individual, fitness_values_individuals[np.argmax(fitness_values_individuals)]\n",
    "\n",
    "x, y = genetic_algorithm()\n",
    "print(f'Best individual: {x}')"
   ]
  }
 ],
 "metadata": {
  "kernelspec": {
   "display_name": "venv",
   "language": "python",
   "name": "python3"
  },
  "language_info": {
   "codemirror_mode": {
    "name": "ipython",
    "version": 3
   },
   "file_extension": ".py",
   "mimetype": "text/x-python",
   "name": "python",
   "nbconvert_exporter": "python",
   "pygments_lexer": "ipython3",
   "version": "3.9.12"
  },
  "orig_nbformat": 4,
  "vscode": {
   "interpreter": {
    "hash": "a36a59aaa9ba51db55ab13fdbe9cb7bf610a761785fc6b04da0d0b9fa4ecb6e7"
   }
  }
 },
 "nbformat": 4,
 "nbformat_minor": 2
}
