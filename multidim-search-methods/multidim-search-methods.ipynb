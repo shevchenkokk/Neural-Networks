{
 "cells": [
  {
   "cell_type": "code",
   "execution_count": 14,
   "metadata": {},
   "outputs": [],
   "source": [
    "from typing import Callable\n",
    "import numpy as np\n",
    "import pandas as pd\n",
    "pd.options.display.expand_frame_repr = False"
   ]
  },
  {
   "attachments": {},
   "cell_type": "markdown",
   "metadata": {},
   "source": [
    "## Функция Розенброка"
   ]
  },
  {
   "cell_type": "code",
   "execution_count": 15,
   "metadata": {},
   "outputs": [],
   "source": [
    "def rosenbrock_func(a: float, b: float, f0: float, n: int) -> Callable:\n",
    "    def rosenbrock_func_wrapper(x: np.ndarray) -> float:\n",
    "        return sum(a * (x[i] ** 2 - x[i + 1]) ** 2 + b * (x[i] - 1) ** 2 for i in range(n - 1)) + f0\n",
    "    return rosenbrock_func_wrapper"
   ]
  },
  {
   "attachments": {},
   "cell_type": "markdown",
   "metadata": {},
   "source": [
    "## Градиент функции Розенброка"
   ]
  },
  {
   "cell_type": "code",
   "execution_count": 16,
   "metadata": {},
   "outputs": [],
   "source": [
    "def rosenbrock_func_grad(a: float, b: float, f0: float, n: int) -> Callable:\n",
    "    def rosenbrock_func_grad_wrapper(x: np.ndarray) -> np.ndarray:\n",
    "        grad = []\n",
    "        df_dx0 = 4 * a * x[0] * (x[0] ** 2 - x[1]) + 2 * b * (x[0] - 1)\n",
    "        grad.append(df_dx0)\n",
    "        for i in range(1, n - 1):\n",
    "            df_dxi = - 2 * a * (x[i - 1] ** 2 - x[i]) + 4 * a * x[i] * (x[i] ** 2 - x[i + 1]) + 2 * b * (x[i] - 1)\n",
    "            grad.append(df_dxi)\n",
    "        df_dxn_add_1 = - 2 * a * (x[n - 2] ** 2 - x[n - 1])\n",
    "        grad.append(df_dxn_add_1)\n",
    "        return np.array(grad)\n",
    "    return rosenbrock_func_grad_wrapper"
   ]
  },
  {
   "attachments": {},
   "cell_type": "markdown",
   "metadata": {},
   "source": [
    "## Гессиан функции Розенброка"
   ]
  },
  {
   "cell_type": "code",
   "execution_count": 17,
   "metadata": {},
   "outputs": [],
   "source": [
    "def rosenbrock_func_hessian(a: float, b: float, f0: float, n: int) -> Callable:\n",
    "    def rosenbrock_func_hessian_wrapper(x: np.ndarray) -> np.ndarray:\n",
    "        H = []\n",
    "        df_dx0_dx0 = 4 * a * (x[0] ** 2 - x[1]) + 8 * a * x[0] ** 2 + 2 * b\n",
    "        df_dx0_dx1 = - 4 * a * x[0]\n",
    "        H.append([df_dx0_dx0, df_dx0_dx1] + [0 for _ in range(n - 2)])\n",
    "        for i in range(1, n - 1):\n",
    "            df_dxi_dxi_min1 = - 4 * a * x[i - 1] - 4 * a * x[i]\n",
    "            df_dxi_dxi = 2 * a + 12 * a * x[i] ** 2 + 2 * b\n",
    "            df_dxi_dxi_add_1 = - 4 * a * x[i]\n",
    "            H.append([0 for _ in range(i - 2)] + [df_dxi_dxi_min1, df_dxi_dxi, df_dxi_dxi_add_1] + [0 for _ in range(i + 2, n)])\n",
    "        H.append([0 for _ in range(n - 2)] + [-4 * a * x[n - 2], 2 * a])\n",
    "        return np.array(H)\n",
    "    return rosenbrock_func_hessian_wrapper"
   ]
  },
  {
   "attachments": {},
   "cell_type": "markdown",
   "metadata": {},
   "source": [
    "## Равномерная норма вектора"
   ]
  },
  {
   "cell_type": "code",
   "execution_count": 18,
   "metadata": {},
   "outputs": [],
   "source": [
    "def vector_norm(vec: np.ndarray) -> float:\n",
    "    return max(map(abs, vec))"
   ]
  },
  {
   "attachments": {},
   "cell_type": "markdown",
   "metadata": {},
   "source": [
    "## Метод одномерного поиска"
   ]
  },
  {
   "cell_type": "code",
   "execution_count": 19,
   "metadata": {},
   "outputs": [],
   "source": [
    "def find_min(func: Callable, a: float, b: float, xk: np.ndarray, dk: np.ndarray, eps: float=1e-4):\n",
    "    phi = 1.618\n",
    "    a1 = b - (b - a) / phi\n",
    "    b1 = a + (b - a) / phi\n",
    "\n",
    "    while abs(b1 - a1) > eps:\n",
    "        if func(xk + a1 * dk) < func(xk + b1 * dk):\n",
    "            b = b1\n",
    "        else:\n",
    "            a = a1\n",
    "            \n",
    "        a1 = b - (b - a) / phi\n",
    "        b1 = a + (b - a) / phi\n",
    "\n",
    "    return (a + b) / 2 "
   ]
  },
  {
   "attachments": {},
   "cell_type": "markdown",
   "metadata": {},
   "source": [
    "## Метод Флетчера–Ривза"
   ]
  },
  {
   "cell_type": "code",
   "execution_count": 20,
   "metadata": {},
   "outputs": [],
   "source": [
    "def fletcher_reeves(func: Callable, func_grad: np.ndarray, x0: np.ndarray, eps: float=1e-5) -> tuple[np.ndarray, float, int]:\n",
    "    dk = -func_grad(x0)\n",
    "    xk = x0.copy()\n",
    "    k = 0\n",
    "    while True:\n",
    "        if vector_norm(func_grad(xk)) < eps:\n",
    "            break\n",
    "        # используем метод одномерной оптимизации для поиска минимума функции\n",
    "        alpha = find_min(func, -1000, 1000, xk, dk, 1e-4)\n",
    "        if alpha > 1e-4:\n",
    "            xk1 = xk + alpha * dk\n",
    "        wk = (vector_norm(func_grad(xk1)) ** 2) / (vector_norm(func_grad(xk)) ** 2)\n",
    "        dk = -func_grad(xk1) + wk * dk\n",
    "        xk = xk1.copy()\n",
    "        k += 1\n",
    "    return xk, func(xk), k"
   ]
  },
  {
   "attachments": {},
   "cell_type": "markdown",
   "metadata": {},
   "source": [
    "## Метод Полака-Рибьера"
   ]
  },
  {
   "cell_type": "code",
   "execution_count": 21,
   "metadata": {},
   "outputs": [],
   "source": [
    "def polack_ribeir(func: Callable, func_grad: np.ndarray, x0: np.ndarray, eps: float=1e-5) -> tuple[np.ndarray, float, int]:\n",
    "    n = len(x0)\n",
    "    dk = -func_grad(x0)\n",
    "    xk = x0.copy()\n",
    "    k = 0\n",
    "    while True:\n",
    "        if vector_norm(func_grad(xk)) < eps:\n",
    "            break\n",
    "        # используем метод одномерной оптимизации для поиска минимума функции\n",
    "        alpha = find_min(func, -1000, 1000, xk, dk, 1e-4)\n",
    "        if alpha > 1e-4:\n",
    "            xk1 = xk + alpha * dk\n",
    "        if k % n == 0:\n",
    "            wk = np.dot(func_grad(xk1), (func_grad(xk1) - func_grad(xk))) / (vector_norm(func_grad(xk)) ** 2)\n",
    "        else:\n",
    "            wk = 0\n",
    "        dk = -func_grad(xk1) + wk * dk\n",
    "        xk = xk1.copy()\n",
    "        k += 1\n",
    "    return xk, func(xk), k"
   ]
  },
  {
   "attachments": {},
   "cell_type": "markdown",
   "metadata": {},
   "source": [
    "## Метод Девидона–Флетчера–Пауэлла"
   ]
  },
  {
   "cell_type": "code",
   "execution_count": 22,
   "metadata": {},
   "outputs": [],
   "source": [
    "def davidon_fletcher_powell(func: Callable, func_grad: np.ndarray, x0: np.ndarray, eps=1e-5) -> tuple[np.ndarray, float, int]:\n",
    "    Gk = np.eye(len(x0))\n",
    "    xk = x0.copy()\n",
    "    k = 0\n",
    "    while True:\n",
    "        if vector_norm(func_grad(xk)) < eps:\n",
    "            break\n",
    "        dk = np.dot(-Gk, func_grad(xk))\n",
    "        # используем метод одномерной оптимизации для поиска минимума функции\n",
    "        alpha = find_min(func, -1000, 1000, xk, dk, 1e-4)\n",
    "        if alpha > 1e-4:\n",
    "            xk1 = xk + alpha * dk\n",
    "        delta_xk = xk1 - xk\n",
    "        delta_gk = func_grad(xk1) - func_grad(xk)\n",
    "        delta_Gk = np.outer(delta_xk, delta_xk) / (np.dot(np.transpose(delta_xk), delta_gk)) \\\n",
    "                - np.outer(np.dot(Gk, delta_gk), np.dot(Gk, delta_gk))  \\\n",
    "                / (np.dot(np.transpose(np.dot(Gk, delta_gk)), delta_gk))\n",
    "        Gk = Gk + delta_Gk\n",
    "        xk = xk1.copy()\n",
    "        k += 1\n",
    "    return xk, func(xk), k"
   ]
  },
  {
   "attachments": {},
   "cell_type": "markdown",
   "metadata": {},
   "source": [
    "## Метод Левенберга–Марквардта"
   ]
  },
  {
   "cell_type": "code",
   "execution_count": 23,
   "metadata": {},
   "outputs": [],
   "source": [
    "def levenberg_marquardt(func: Callable, func_grad: np.ndarray, H: np.ndarray, x0: np.ndarray, eps=1e-5) -> tuple[np.ndarray, float, int]:\n",
    "    xk = x0.copy()\n",
    "    muk = 1e1\n",
    "    k = 0\n",
    "    while True:\n",
    "        if vector_norm(func_grad(xk)) < eps:\n",
    "            break\n",
    "        Hxk = H(xk)\n",
    "        xk1 = xk - np.dot(np.linalg.inv(Hxk + muk * np.eye(Hxk.shape[0], Hxk.shape[1])), func_grad(xk))\n",
    "        if func(xk1) < func(xk):\n",
    "            k += 1\n",
    "            muk = muk / 2\n",
    "            xk = xk1.copy()\n",
    "        else:\n",
    "            muk = 2 * muk\n",
    "    return xk, func(xk), k"
   ]
  },
  {
   "attachments": {},
   "cell_type": "markdown",
   "metadata": {},
   "source": [
    "## Тестирование"
   ]
  },
  {
   "cell_type": "code",
   "execution_count": 24,
   "metadata": {},
   "outputs": [
    {
     "name": "stdout",
     "output_type": "stream",
     "text": [
      "eps = 0.01\n",
      "fletcher_reeves\n",
      "[1.00000059 0.99999825 0.99997758]\n",
      "45.000000004519755\n",
      "21\n",
      "\n",
      "polack_ribeir\n",
      "[1.00000668 1.00000775 1.00008769]\n",
      "45.00000007860819\n",
      "18\n",
      "\n",
      "davidon_fletcher_powell\n",
      "[0.99998576 0.9999973  1.00005325]\n",
      "45.000000093555784\n",
      "7\n",
      "\n",
      "levenberg_marquardt\n",
      "[0.99999961 0.99999441 0.99998682]\n",
      "45.00000000813164\n",
      "7\n",
      "\n",
      "eps = 0.001\n",
      "fletcher_reeves\n",
      "[1.00000059 0.99999825 0.99997758]\n",
      "45.000000004519755\n",
      "21\n",
      "\n",
      "polack_ribeir\n",
      "[0.99999985 1.00000302 1.0000353 ]\n",
      "45.000000010955915\n",
      "21\n",
      "\n",
      "davidon_fletcher_powell\n",
      "[0.99999998 0.99999997 0.99999977]\n",
      "45.000000000000604\n",
      "8\n",
      "\n",
      "levenberg_marquardt\n",
      "[0.99999997 0.99999962 0.99999919]\n",
      "45.00000000003733\n",
      "8\n",
      "\n",
      "eps = 0.0001\n",
      "fletcher_reeves\n",
      "[0.99999997 1.00000002 0.9999985 ]\n",
      "45.00000000002445\n",
      "31\n",
      "\n",
      "polack_ribeir\n",
      "[1.         1.0000001  0.99999992]\n",
      "45.00000000000365\n",
      "26\n",
      "\n",
      "davidon_fletcher_powell\n",
      "[0.99999998 0.99999997 0.99999977]\n",
      "45.000000000000604\n",
      "8\n",
      "\n",
      "levenberg_marquardt\n",
      "[1.         0.99999997 0.99999995]\n",
      "45.00000000000017\n",
      "9\n",
      "\n",
      "eps = 1e-05\n",
      "fletcher_reeves\n",
      "[1.         1.00000005 1.00000056]\n",
      "45.0000000000028\n",
      "40\n",
      "\n",
      "polack_ribeir\n",
      "[1.00000001 1.         0.99999993]\n",
      "45.00000000000006\n",
      "27\n",
      "\n",
      "davidon_fletcher_powell\n",
      "[1.         1.         1.00000002]\n",
      "45.0\n",
      "9\n",
      "\n",
      "levenberg_marquardt\n",
      "[1. 1. 1.]\n",
      "45.0\n",
      "10\n",
      "\n"
     ]
    }
   ],
   "source": [
    "a, b, f0, n = 10, 250, 45, 3\n",
    "x0 = np.random.uniform(-10, 10, n)\n",
    "func = rosenbrock_func(a, b, f0, n)\n",
    "func_grad = rosenbrock_func_grad(a, b, f0, n)\n",
    "H = rosenbrock_func_hessian(a, b, f0, n)\n",
    "data = {\n",
    "    'fletcher_reeves': [],\n",
    "    'polack_ribeir': [],\n",
    "    'davidon_fletcher_powell': [],\n",
    "    'levenberg_marquardt': []\n",
    "}\n",
    "for eps in (1e-2, 1e-3, 1e-4, 1e-5):\n",
    "    print(f'{eps = }')\n",
    "    it_nums = []\n",
    "    for method in (fletcher_reeves, polack_ribeir, davidon_fletcher_powell, levenberg_marquardt):\n",
    "        x, y, it_num = method(func, func_grad, x0, eps) if method.__name__ != 'levenberg_marquardt' else method(func, func_grad, H, x0, eps)\n",
    "        data[f'{method.__name__}'].append(it_num)\n",
    "        print(method.__name__, x, y, it_num, sep='\\n', end='\\n\\n')"
   ]
  },
  {
   "cell_type": "code",
   "execution_count": 25,
   "metadata": {},
   "outputs": [
    {
     "data": {
      "text/html": [
       "<style type=\"text/css\">\n",
       "#T_d6f1e  {\n",
       "  border: 2px solid black;\n",
       "}\n",
       "#T_d6f1e_row0_col0, #T_d6f1e_row0_col1, #T_d6f1e_row0_col2, #T_d6f1e_row0_col3, #T_d6f1e_row1_col0, #T_d6f1e_row1_col1, #T_d6f1e_row1_col2, #T_d6f1e_row1_col3, #T_d6f1e_row2_col0, #T_d6f1e_row2_col1, #T_d6f1e_row2_col2, #T_d6f1e_row2_col3, #T_d6f1e_row3_col0, #T_d6f1e_row3_col1, #T_d6f1e_row3_col2, #T_d6f1e_row3_col3 {\n",
       "  border: 2px solid black;\n",
       "}\n",
       "</style>\n",
       "<table id=\"T_d6f1e\">\n",
       "  <thead>\n",
       "    <tr>\n",
       "      <th class=\"blank level0\" >&nbsp;</th>\n",
       "      <th id=\"T_d6f1e_level0_col0\" class=\"col_heading level0 col0\" >fletcher_reeves</th>\n",
       "      <th id=\"T_d6f1e_level0_col1\" class=\"col_heading level0 col1\" >polack_ribeir</th>\n",
       "      <th id=\"T_d6f1e_level0_col2\" class=\"col_heading level0 col2\" >davidon_fletcher_powell</th>\n",
       "      <th id=\"T_d6f1e_level0_col3\" class=\"col_heading level0 col3\" >levenberg_marquardt</th>\n",
       "    </tr>\n",
       "    <tr>\n",
       "      <th class=\"index_name level0\" >eps</th>\n",
       "      <th class=\"blank col0\" >&nbsp;</th>\n",
       "      <th class=\"blank col1\" >&nbsp;</th>\n",
       "      <th class=\"blank col2\" >&nbsp;</th>\n",
       "      <th class=\"blank col3\" >&nbsp;</th>\n",
       "    </tr>\n",
       "  </thead>\n",
       "  <tbody>\n",
       "    <tr>\n",
       "      <th id=\"T_d6f1e_level0_row0\" class=\"row_heading level0 row0\" >1e-2</th>\n",
       "      <td id=\"T_d6f1e_row0_col0\" class=\"data row0 col0\" >21</td>\n",
       "      <td id=\"T_d6f1e_row0_col1\" class=\"data row0 col1\" >18</td>\n",
       "      <td id=\"T_d6f1e_row0_col2\" class=\"data row0 col2\" >7</td>\n",
       "      <td id=\"T_d6f1e_row0_col3\" class=\"data row0 col3\" >7</td>\n",
       "    </tr>\n",
       "    <tr>\n",
       "      <th id=\"T_d6f1e_level0_row1\" class=\"row_heading level0 row1\" >1e-3</th>\n",
       "      <td id=\"T_d6f1e_row1_col0\" class=\"data row1 col0\" >21</td>\n",
       "      <td id=\"T_d6f1e_row1_col1\" class=\"data row1 col1\" >21</td>\n",
       "      <td id=\"T_d6f1e_row1_col2\" class=\"data row1 col2\" >8</td>\n",
       "      <td id=\"T_d6f1e_row1_col3\" class=\"data row1 col3\" >8</td>\n",
       "    </tr>\n",
       "    <tr>\n",
       "      <th id=\"T_d6f1e_level0_row2\" class=\"row_heading level0 row2\" >1e-4</th>\n",
       "      <td id=\"T_d6f1e_row2_col0\" class=\"data row2 col0\" >31</td>\n",
       "      <td id=\"T_d6f1e_row2_col1\" class=\"data row2 col1\" >26</td>\n",
       "      <td id=\"T_d6f1e_row2_col2\" class=\"data row2 col2\" >8</td>\n",
       "      <td id=\"T_d6f1e_row2_col3\" class=\"data row2 col3\" >9</td>\n",
       "    </tr>\n",
       "    <tr>\n",
       "      <th id=\"T_d6f1e_level0_row3\" class=\"row_heading level0 row3\" >1e-5</th>\n",
       "      <td id=\"T_d6f1e_row3_col0\" class=\"data row3 col0\" >40</td>\n",
       "      <td id=\"T_d6f1e_row3_col1\" class=\"data row3 col1\" >27</td>\n",
       "      <td id=\"T_d6f1e_row3_col2\" class=\"data row3 col2\" >9</td>\n",
       "      <td id=\"T_d6f1e_row3_col3\" class=\"data row3 col3\" >10</td>\n",
       "    </tr>\n",
       "  </tbody>\n",
       "</table>\n"
      ],
      "text/plain": [
       "<pandas.io.formats.style.Styler at 0x7f8198b6ac40>"
      ]
     },
     "execution_count": 25,
     "metadata": {},
     "output_type": "execute_result"
    }
   ],
   "source": [
    "df = pd.DataFrame(data=data, index=['1e-2', '1e-3', '1e-4', '1e-5'])\n",
    "df.index.name = 'eps'\n",
    "styled_df = df.style.set_table_styles([{'selector': '', 'props': [('border', '2px solid black')]}])\\\n",
    ".set_properties(**{'border': '2px solid black'})\n",
    "styled_df"
   ]
  },
  {
   "attachments": {},
   "cell_type": "markdown",
   "metadata": {},
   "source": [
    "Метод Левенберга-Марквардта показал наибольшую устойчивость среди рассмотренных методов и очень высокую скорость сходимости. Однако данный метод налагает ограничения на целевую функцию (ограниченность снизу, наличие непрерывных вторых частных производных), а также довольно сложен в реализации."
   ]
  },
  {
   "attachments": {},
   "cell_type": "markdown",
   "metadata": {},
   "source": [
    "## Генетический алгоритм"
   ]
  },
  {
   "cell_type": "code",
   "execution_count": 26,
   "metadata": {},
   "outputs": [],
   "source": [
    "def fitness_func(x: np.ndarray):\n",
    "    return 1 / func(x)"
   ]
  },
  {
   "cell_type": "code",
   "execution_count": 64,
   "metadata": {},
   "outputs": [],
   "source": [
    "def genetic_algorithm(func: Callable, n: int) -> tuple[np.ndarray, float]:\n",
    "    t, Np, k, Mp = 0, 10, 1, 100\n",
    "    # формируем исходную популяцию с количеством особей Mp\n",
    "    population = np.array([np.random.uniform(0, 1, n) for _ in range(Mp)])\n",
    "    fitness_values_individuals = np.array(list(map(fitness_func, population)))\n",
    "    fitness_value_population = np.sum(fitness_values_individuals)\n",
    "\n",
    "    while t != Np:\n",
    "        k = 1\n",
    "        while k < Mp:\n",
    "            # этап селекции (отбора особей) для последующего их скрещивания\n",
    "            q = fitness_values_individuals / fitness_value_population\n",
    "            new_population = [population[np.random.choice(len(population), p=q)] for _ in range(Mp)]\n",
    "\n",
    "            # этап скрещивания\n",
    "            Pc = 0.4\n",
    "            parent_indices = []\n",
    "            for i in range(len(new_population)):\n",
    "                r = np.random.random()\n",
    "                if r < Pc:\n",
    "                    parent_indices.append(i)\n",
    "\n",
    "            for parent1_index, parent2_index in zip(parent_indices[0::2], parent_indices[1::2]):\n",
    "                c = np.random.random()\n",
    "                parent1, parent2 = new_population[parent1_index], new_population[parent2_index]\n",
    "                parent1 = c * parent1 + (1 - c) * parent2\n",
    "                parent2 = (1 - c) * parent1 + c * parent2\n",
    "                \n",
    "            # этап мутации\n",
    "            Pm = 0.2\n",
    "            for i in range(len(new_population)):\n",
    "                r = np.random.random()\n",
    "                if r < Pm:\n",
    "                    p = np.random.randint(0, n, 1)\n",
    "                    new_population[i][p] = np.random.uniform(0, 1)\n",
    "\n",
    "            population[:] = new_population\n",
    "            fitness_values_individuals = np.array(list(map(fitness_func, population)))\n",
    "            fitness_value_population = np.sum(fitness_values_individuals)\n",
    "            k += 1\n",
    "        t += 1\n",
    "    best_individual = population[np.argmax(fitness_values_individuals)]\n",
    "    return best_individual, func(best_individual)"
   ]
  },
  {
   "cell_type": "code",
   "execution_count": 72,
   "metadata": {},
   "outputs": [
    {
     "name": "stdout",
     "output_type": "stream",
     "text": [
      "[0.96546144 0.96752585 0.87007255] 45.6180139124816\n"
     ]
    }
   ],
   "source": [
    "x, y = genetic_algorithm(func, n)\n",
    "print(x, y)"
   ]
  }
 ],
 "metadata": {
  "kernelspec": {
   "display_name": "venv",
   "language": "python",
   "name": "python3"
  },
  "language_info": {
   "codemirror_mode": {
    "name": "ipython",
    "version": 3
   },
   "file_extension": ".py",
   "mimetype": "text/x-python",
   "name": "python",
   "nbconvert_exporter": "python",
   "pygments_lexer": "ipython3",
   "version": "3.9.12"
  },
  "orig_nbformat": 4,
  "vscode": {
   "interpreter": {
    "hash": "a36a59aaa9ba51db55ab13fdbe9cb7bf610a761785fc6b04da0d0b9fa4ecb6e7"
   }
  }
 },
 "nbformat": 4,
 "nbformat_minor": 2
}
